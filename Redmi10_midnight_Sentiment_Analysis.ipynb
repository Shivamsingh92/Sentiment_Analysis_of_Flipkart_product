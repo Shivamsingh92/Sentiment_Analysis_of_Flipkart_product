{
  "nbformat": 4,
  "nbformat_minor": 0,
  "metadata": {
    "colab": {
      "provenance": []
    },
    "kernelspec": {
      "name": "python3",
      "display_name": "Python 3"
    },
    "language_info": {
      "name": "python"
    }
  },
  "cells": [
    {
      "cell_type": "markdown",
      "source": [
        "# Sentimental Analysis On Flipkart Product"
      ],
      "metadata": {
        "id": "U9wks_UPN0ag"
      }
    },
    {
      "cell_type": "code",
      "source": [
        "import warnings\n",
        "warnings.filterwarnings('ignore')"
      ],
      "metadata": {
        "id": "E-FL9M2ATuXL"
      },
      "execution_count": null,
      "outputs": []
    },
    {
      "cell_type": "code",
      "source": [
        "from bs4 import BeautifulSoup\n",
        "import requests\n",
        "cust_name=[]\n",
        "cust_review=[]\n",
        "for i in range(1,15):\n",
        "  url=\"https://www.flipkart.com/redmi-10-midnight-black-64-gb/product-reviews/itmd93641e4ebb47?pid=MOBGC9GYEBH3GZ4E&lid=LSTMOBGC9GYEBH3GZ4ESWAKTT&marketplace=FLIPKART&page=\"+str(i)\n",
        "  request=requests.get(url)\n",
        "  soup=BeautifulSoup(request.content,'html.parser')\n",
        "  name=soup.find_all('p',attrs={'class':'_2sc7ZR _2V5EHH'})\n",
        "  review = soup.find_all(\"div\",attrs={\"class\":\"t-ZTKy\"})\n",
        "  for i in range(0,len(name)):\n",
        "    cust_name.append(name[i].get_text())\n",
        "  for i in range(0,len(review)):\n",
        "    cust_review.append(review[i].get_text())\n",
        "  \n"
      ],
      "metadata": {
        "id": "MzK4lUgzT2GD"
      },
      "execution_count": null,
      "outputs": []
    },
    {
      "cell_type": "markdown",
      "source": [
        "#Importing the Regular Expression For cleaning the information and nlp libraries"
      ],
      "metadata": {
        "id": "6_n3jQaIL5hi"
      }
    },
    {
      "cell_type": "code",
      "source": [
        "import re"
      ],
      "metadata": {
        "id": "A1JdPUm_TB6v"
      },
      "execution_count": null,
      "outputs": []
    },
    {
      "cell_type": "markdown",
      "source": [
        "Importing the natural Language Processing libraries make it more clean"
      ],
      "metadata": {
        "id": "14kHcXlvMIad"
      }
    },
    {
      "cell_type": "code",
      "source": [
        "import nltk\n",
        "nltk.download('stopwords')"
      ],
      "metadata": {
        "colab": {
          "base_uri": "https://localhost:8080/"
        },
        "id": "8Y3gNbkgvIpL",
        "outputId": "c3558568-6958-40fb-d99e-ab7e1174b5cd"
      },
      "execution_count": null,
      "outputs": [
        {
          "output_type": "stream",
          "name": "stderr",
          "text": [
            "[nltk_data] Downloading package stopwords to /root/nltk_data...\n",
            "[nltk_data]   Unzipping corpora/stopwords.zip.\n"
          ]
        },
        {
          "output_type": "execute_result",
          "data": {
            "text/plain": [
              "True"
            ]
          },
          "metadata": {},
          "execution_count": 4
        }
      ]
    },
    {
      "cell_type": "code",
      "source": [
        "# Stemming the data for extracting the root word\n",
        "from nltk.corpus import stopwords\n",
        "from nltk.stem import PorterStemmer\n",
        "ps=PorterStemmer()"
      ],
      "metadata": {
        "id": "d0p_K8T-ukos"
      },
      "execution_count": null,
      "outputs": []
    },
    {
      "cell_type": "markdown",
      "source": [
        "Storing the cleaned data"
      ],
      "metadata": {
        "id": "t4nH9xRuMs9s"
      }
    },
    {
      "cell_type": "code",
      "source": [
        "# Getting the cleaned data\n",
        "customer_review =[]\n",
        "for i in range(0, len(cust_review)):\n",
        "  review = re.sub('[^a-zA-Z]',' ',cust_review[i])  # Extracting the alphabets with the help of regular expression\n",
        "  review = review.lower()\n",
        "  review = review.split()\n",
        "  # After that we have applied the list comprehension\n",
        "  review = [ps.stem(i) for i in review if not i in stopwords.words('english')] # Removing the stopwords such as Stop words are a set of commonly used words in a language like grammatical words.\n",
        "  review = ' '.join(review)\n",
        "  customer_review.append(review)\n"
      ],
      "metadata": {
        "id": "y7GD3c5PqjxS"
      },
      "execution_count": null,
      "outputs": []
    },
    {
      "cell_type": "code",
      "source": [
        "customer_name =[]\n",
        "for i in range(0, len(cust_name)):\n",
        "  review = re.sub('[^a-zA-Z]',' ',cust_name[i])  # Extracting the alphabets with the help of regular expression\n",
        "  review = review.lower()\n",
        "  review = review.split()\n",
        "  # After that we have applied the list comprehension\n",
        "  review = [ps.stem(i) for i in review if not i in stopwords.words('english')] # Removing the stopwords such as Stop words are a set of commonly used words in a language like grammatical words.\n",
        "  review = ' '.join(review)\n",
        "  customer_name.append(review)"
      ],
      "metadata": {
        "id": "MaBmhvbZwcrE"
      },
      "execution_count": null,
      "outputs": []
    },
    {
      "cell_type": "code",
      "source": [
        "customer_name"
      ],
      "metadata": {
        "colab": {
          "base_uri": "https://localhost:8080/"
        },
        "id": "97FWtY3mwzhv",
        "outputId": "0af288a8-6795-4a18-f193-6c877aa4b3e2"
      },
      "execution_count": null,
      "outputs": [
        {
          "output_type": "execute_result",
          "data": {
            "text/plain": [
              "['rupam dhara',\n",
              " 'soumadip mondal',\n",
              " 'kuldeep singh',\n",
              " 'nilesh gaidhani',\n",
              " 'flipkart custom',\n",
              " 'nitish gaurav',\n",
              " 'rahul dhochak',\n",
              " 'deepak kumar shrivastava',\n",
              " 'amal varghes',\n",
              " 'jegadeesan ramalingam',\n",
              " 'sharda verma',\n",
              " 'manish kaushik',\n",
              " 'flipkart custom',\n",
              " 'flipkart custom',\n",
              " 'ujjwal singh',\n",
              " 'flipkart custom',\n",
              " 'flipkart custom',\n",
              " 'mohd ashraf mohd ashraf zargar',\n",
              " 'flipkart custom',\n",
              " 'hasan',\n",
              " 'silambarasan',\n",
              " 'sagar pawar',\n",
              " 'flipkart custom',\n",
              " 'ankit rastogi',\n",
              " 'razim mohmedan',\n",
              " 'shankar gs',\n",
              " 'akshay tyagi',\n",
              " 'sahzad saif',\n",
              " 'mohan naik',\n",
              " 'chandu nishad',\n",
              " 'flipkart custom',\n",
              " 'flipkart custom',\n",
              " 'polo babu',\n",
              " 'flipkart custom',\n",
              " 'niraj kumar',\n",
              " 'chaithra k g',\n",
              " 'ravi kumar',\n",
              " 'manali chakrabarti',\n",
              " 'chitra dubey',\n",
              " 'flipkart custom',\n",
              " 'deepti sharma',\n",
              " 'kripasindhu da',\n",
              " 'eswaran r',\n",
              " 'mamta pandit',\n",
              " 'anil payghan',\n",
              " 'flipkart custom',\n",
              " 'saptarsi masanta',\n",
              " 'flipkart custom',\n",
              " 'smaranika tarai',\n",
              " 'akhil b krishnan',\n",
              " 'samiul hoqu',\n",
              " 'sudarshan sikdar',\n",
              " 'rocki kumar',\n",
              " 'adithyan adhi',\n",
              " 'jadeb da',\n",
              " 'dipesh mahankar',\n",
              " 'sanjoy maina',\n",
              " 'chiranjib paul',\n",
              " 'jalla nageshwarrao',\n",
              " 'prava da',\n",
              " 'imran molla',\n",
              " 'vikash sharma',\n",
              " 'jaga behera',\n",
              " 'hirak misra',\n",
              " 'flipkart custom',\n",
              " 'shubham dhiman',\n",
              " 'debashi gayen',\n",
              " 'flipkart custom',\n",
              " 'prabhat kumar',\n",
              " 'rahul khan',\n",
              " 'sanjay kumar',\n",
              " 'kaushik rakshit',\n",
              " 'jagdish parangi',\n",
              " 'flipkart custom',\n",
              " 'darshan chaudhari',\n",
              " 'flipkart custom',\n",
              " 'devi kutti',\n",
              " 'jeewan rawat',\n",
              " 'habibulla mondal',\n",
              " 'sabita dhali',\n",
              " 'flipkart custom',\n",
              " 'nikhil shindimeshram',\n",
              " 'sy jave ahmad urf saddam',\n",
              " 'sunni singhania',\n",
              " 'mojahidul islam',\n",
              " 'pawan singh pawar',\n",
              " 'ashish khandelw',\n",
              " '',\n",
              " 'flipkart custom',\n",
              " 'md meraj ansari',\n",
              " 'sudheep galipothula',\n",
              " '',\n",
              " 'rani da',\n",
              " 'flipkart custom',\n",
              " 'anil khemani',\n",
              " 'rupesh chauhan',\n",
              " 'mohit gangwar',\n",
              " 'sagar kharat',\n",
              " 'gopal chetri',\n",
              " 'souvagya roy',\n",
              " 'dularchandra kumar pandit',\n",
              " 'flipkart custom',\n",
              " 'pritam jana',\n",
              " 'flipkart custom',\n",
              " 'zakariya selot',\n",
              " 'shivasai gangoni',\n",
              " 'shubham kadam',\n",
              " 'flipkart custom',\n",
              " 'nabin roy',\n",
              " 'prem saini',\n",
              " 'md asra hoqu',\n",
              " 'balaram gope',\n",
              " 'flipkart custom',\n",
              " 'bikash boro',\n",
              " 'debnath ganguli',\n",
              " 'flipkart custom',\n",
              " 'ajay kumar',\n",
              " 'pintu kumar yadav',\n",
              " 'rohan gupta',\n",
              " 'sushanta akhuli',\n",
              " 'mohd mustaqeem',\n",
              " 'mohan krishna reddi',\n",
              " 'zeenath bayar',\n",
              " 'tanmoy majumdar',\n",
              " 'santanu karmakar',\n",
              " 'aftab kabir',\n",
              " 'suman da',\n",
              " 'gocham tatak',\n",
              " 'anoop singh',\n",
              " 'shani kumar',\n",
              " 'ajeet joriya',\n",
              " 'vinod chouhan',\n",
              " 'deepak prasad gupta',\n",
              " 'mangesh awari',\n",
              " 'nishant kumar',\n",
              " 'purnima sadhukhan',\n",
              " 'maheshbabu p',\n",
              " 'prakash gongadashettimath',\n",
              " 'md zaid khan',\n",
              " 'debasish choudhuri']"
            ]
          },
          "metadata": {},
          "execution_count": 8
        }
      ]
    },
    {
      "cell_type": "markdown",
      "source": [
        "# Making the dataframe"
      ],
      "metadata": {
        "id": "Fb5anMrlM0YE"
      }
    },
    {
      "cell_type": "code",
      "source": [
        "import pandas as pd\n",
        "import numpy as np"
      ],
      "metadata": {
        "id": "8zpnW1LHxLcl"
      },
      "execution_count": null,
      "outputs": []
    },
    {
      "cell_type": "code",
      "source": [
        "data={'name':customer_name,'review':customer_review}"
      ],
      "metadata": {
        "id": "44OPx_4Cw1WI"
      },
      "execution_count": null,
      "outputs": []
    },
    {
      "cell_type": "code",
      "source": [
        "data=pd.DataFrame(data)"
      ],
      "metadata": {
        "id": "oNng6fBtyqb2"
      },
      "execution_count": null,
      "outputs": []
    },
    {
      "cell_type": "code",
      "source": [
        "data.head()"
      ],
      "metadata": {
        "colab": {
          "base_uri": "https://localhost:8080/",
          "height": 206
        },
        "id": "YwBSlgHEz4XM",
        "outputId": "4acde48c-d340-4ba8-e027-930a732b46f6"
      },
      "execution_count": null,
      "outputs": [
        {
          "output_type": "execute_result",
          "data": {
            "text/plain": [
              "              name                                             review\n",
              "0      rupam dhara  good phone price rang batteri backup good came...\n",
              "1  soumadip mondal  nice mobil perform good camera qualiti good go...\n",
              "2    kuldeep singh    good phone nice work good perform nice lookread\n",
              "3  nilesh gaidhani  phone camera good use first phone buyerbatteri...\n",
              "4  flipkart custom  better backup osm an camer clariti good happi ..."
            ],
            "text/html": [
              "\n",
              "  <div id=\"df-fed499fd-4265-4f4d-b0a8-818f72a7883f\">\n",
              "    <div class=\"colab-df-container\">\n",
              "      <div>\n",
              "<style scoped>\n",
              "    .dataframe tbody tr th:only-of-type {\n",
              "        vertical-align: middle;\n",
              "    }\n",
              "\n",
              "    .dataframe tbody tr th {\n",
              "        vertical-align: top;\n",
              "    }\n",
              "\n",
              "    .dataframe thead th {\n",
              "        text-align: right;\n",
              "    }\n",
              "</style>\n",
              "<table border=\"1\" class=\"dataframe\">\n",
              "  <thead>\n",
              "    <tr style=\"text-align: right;\">\n",
              "      <th></th>\n",
              "      <th>name</th>\n",
              "      <th>review</th>\n",
              "    </tr>\n",
              "  </thead>\n",
              "  <tbody>\n",
              "    <tr>\n",
              "      <th>0</th>\n",
              "      <td>rupam dhara</td>\n",
              "      <td>good phone price rang batteri backup good came...</td>\n",
              "    </tr>\n",
              "    <tr>\n",
              "      <th>1</th>\n",
              "      <td>soumadip mondal</td>\n",
              "      <td>nice mobil perform good camera qualiti good go...</td>\n",
              "    </tr>\n",
              "    <tr>\n",
              "      <th>2</th>\n",
              "      <td>kuldeep singh</td>\n",
              "      <td>good phone nice work good perform nice lookread</td>\n",
              "    </tr>\n",
              "    <tr>\n",
              "      <th>3</th>\n",
              "      <td>nilesh gaidhani</td>\n",
              "      <td>phone camera good use first phone buyerbatteri...</td>\n",
              "    </tr>\n",
              "    <tr>\n",
              "      <th>4</th>\n",
              "      <td>flipkart custom</td>\n",
              "      <td>better backup osm an camer clariti good happi ...</td>\n",
              "    </tr>\n",
              "  </tbody>\n",
              "</table>\n",
              "</div>\n",
              "      <button class=\"colab-df-convert\" onclick=\"convertToInteractive('df-fed499fd-4265-4f4d-b0a8-818f72a7883f')\"\n",
              "              title=\"Convert this dataframe to an interactive table.\"\n",
              "              style=\"display:none;\">\n",
              "        \n",
              "  <svg xmlns=\"http://www.w3.org/2000/svg\" height=\"24px\"viewBox=\"0 0 24 24\"\n",
              "       width=\"24px\">\n",
              "    <path d=\"M0 0h24v24H0V0z\" fill=\"none\"/>\n",
              "    <path d=\"M18.56 5.44l.94 2.06.94-2.06 2.06-.94-2.06-.94-.94-2.06-.94 2.06-2.06.94zm-11 1L8.5 8.5l.94-2.06 2.06-.94-2.06-.94L8.5 2.5l-.94 2.06-2.06.94zm10 10l.94 2.06.94-2.06 2.06-.94-2.06-.94-.94-2.06-.94 2.06-2.06.94z\"/><path d=\"M17.41 7.96l-1.37-1.37c-.4-.4-.92-.59-1.43-.59-.52 0-1.04.2-1.43.59L10.3 9.45l-7.72 7.72c-.78.78-.78 2.05 0 2.83L4 21.41c.39.39.9.59 1.41.59.51 0 1.02-.2 1.41-.59l7.78-7.78 2.81-2.81c.8-.78.8-2.07 0-2.86zM5.41 20L4 18.59l7.72-7.72 1.47 1.35L5.41 20z\"/>\n",
              "  </svg>\n",
              "      </button>\n",
              "      \n",
              "  <style>\n",
              "    .colab-df-container {\n",
              "      display:flex;\n",
              "      flex-wrap:wrap;\n",
              "      gap: 12px;\n",
              "    }\n",
              "\n",
              "    .colab-df-convert {\n",
              "      background-color: #E8F0FE;\n",
              "      border: none;\n",
              "      border-radius: 50%;\n",
              "      cursor: pointer;\n",
              "      display: none;\n",
              "      fill: #1967D2;\n",
              "      height: 32px;\n",
              "      padding: 0 0 0 0;\n",
              "      width: 32px;\n",
              "    }\n",
              "\n",
              "    .colab-df-convert:hover {\n",
              "      background-color: #E2EBFA;\n",
              "      box-shadow: 0px 1px 2px rgba(60, 64, 67, 0.3), 0px 1px 3px 1px rgba(60, 64, 67, 0.15);\n",
              "      fill: #174EA6;\n",
              "    }\n",
              "\n",
              "    [theme=dark] .colab-df-convert {\n",
              "      background-color: #3B4455;\n",
              "      fill: #D2E3FC;\n",
              "    }\n",
              "\n",
              "    [theme=dark] .colab-df-convert:hover {\n",
              "      background-color: #434B5C;\n",
              "      box-shadow: 0px 1px 3px 1px rgba(0, 0, 0, 0.15);\n",
              "      filter: drop-shadow(0px 1px 2px rgba(0, 0, 0, 0.3));\n",
              "      fill: #FFFFFF;\n",
              "    }\n",
              "  </style>\n",
              "\n",
              "      <script>\n",
              "        const buttonEl =\n",
              "          document.querySelector('#df-fed499fd-4265-4f4d-b0a8-818f72a7883f button.colab-df-convert');\n",
              "        buttonEl.style.display =\n",
              "          google.colab.kernel.accessAllowed ? 'block' : 'none';\n",
              "\n",
              "        async function convertToInteractive(key) {\n",
              "          const element = document.querySelector('#df-fed499fd-4265-4f4d-b0a8-818f72a7883f');\n",
              "          const dataTable =\n",
              "            await google.colab.kernel.invokeFunction('convertToInteractive',\n",
              "                                                     [key], {});\n",
              "          if (!dataTable) return;\n",
              "\n",
              "          const docLinkHtml = 'Like what you see? Visit the ' +\n",
              "            '<a target=\"_blank\" href=https://colab.research.google.com/notebooks/data_table.ipynb>data table notebook</a>'\n",
              "            + ' to learn more about interactive tables.';\n",
              "          element.innerHTML = '';\n",
              "          dataTable['output_type'] = 'display_data';\n",
              "          await google.colab.output.renderOutput(dataTable, element);\n",
              "          const docLink = document.createElement('div');\n",
              "          docLink.innerHTML = docLinkHtml;\n",
              "          element.appendChild(docLink);\n",
              "        }\n",
              "      </script>\n",
              "    </div>\n",
              "  </div>\n",
              "  "
            ]
          },
          "metadata": {},
          "execution_count": 12
        }
      ]
    },
    {
      "cell_type": "markdown",
      "source": [
        "# To analyze the sentiment for the statement we are importing the textblob library"
      ],
      "metadata": {
        "id": "Qmslp-8nM5VI"
      }
    },
    {
      "cell_type": "code",
      "source": [
        "from textblob import TextBlob"
      ],
      "metadata": {
        "id": "gf9Es3bbz6Qz"
      },
      "execution_count": null,
      "outputs": []
    },
    {
      "cell_type": "code",
      "source": [
        "polarity=[] # It is the backbone of the sentiment analysis,which lie between [-1,1]\n",
        "subjectivity=[] # It is the personal opinion of the matter which generally lie between [0,1]\n",
        "for i in data['review']:\n",
        "  i=TextBlob(i)\n",
        "  polarity.append(i.sentiment.polarity)\n",
        "  subjectivity.append(i.sentiment.subjectivity)"
      ],
      "metadata": {
        "id": "cfDAeOm70MCv"
      },
      "execution_count": null,
      "outputs": []
    },
    {
      "cell_type": "code",
      "source": [
        "data['polarity']=polarity"
      ],
      "metadata": {
        "id": "MMMTT_0O3tsp"
      },
      "execution_count": null,
      "outputs": []
    },
    {
      "cell_type": "code",
      "source": [
        "data['subjectivity']=subjectivity"
      ],
      "metadata": {
        "id": "jpjqlAus4c8G"
      },
      "execution_count": null,
      "outputs": []
    },
    {
      "cell_type": "code",
      "source": [
        "data.head()"
      ],
      "metadata": {
        "colab": {
          "base_uri": "https://localhost:8080/",
          "height": 206
        },
        "id": "-76VBLiX4jXT",
        "outputId": "0c6a68a0-ee4c-4641-dd87-c9e3c8a042ff"
      },
      "execution_count": null,
      "outputs": [
        {
          "output_type": "execute_result",
          "data": {
            "text/plain": [
              "              name                                             review  \\\n",
              "0      rupam dhara  good phone price rang batteri backup good came...   \n",
              "1  soumadip mondal  nice mobil perform good camera qualiti good go...   \n",
              "2    kuldeep singh    good phone nice work good perform nice lookread   \n",
              "3  nilesh gaidhani  phone camera good use first phone buyerbatteri...   \n",
              "4  flipkart custom  better backup osm an camer clariti good happi ...   \n",
              "\n",
              "   polarity  subjectivity  \n",
              "0  0.542857      0.571429  \n",
              "1  0.640000      0.680000  \n",
              "2  0.650000      0.800000  \n",
              "3  0.238413      0.502857  \n",
              "4  0.633333      0.566667  "
            ],
            "text/html": [
              "\n",
              "  <div id=\"df-24a5e36d-0aec-4aea-9f14-c978e2b1b516\">\n",
              "    <div class=\"colab-df-container\">\n",
              "      <div>\n",
              "<style scoped>\n",
              "    .dataframe tbody tr th:only-of-type {\n",
              "        vertical-align: middle;\n",
              "    }\n",
              "\n",
              "    .dataframe tbody tr th {\n",
              "        vertical-align: top;\n",
              "    }\n",
              "\n",
              "    .dataframe thead th {\n",
              "        text-align: right;\n",
              "    }\n",
              "</style>\n",
              "<table border=\"1\" class=\"dataframe\">\n",
              "  <thead>\n",
              "    <tr style=\"text-align: right;\">\n",
              "      <th></th>\n",
              "      <th>name</th>\n",
              "      <th>review</th>\n",
              "      <th>polarity</th>\n",
              "      <th>subjectivity</th>\n",
              "    </tr>\n",
              "  </thead>\n",
              "  <tbody>\n",
              "    <tr>\n",
              "      <th>0</th>\n",
              "      <td>rupam dhara</td>\n",
              "      <td>good phone price rang batteri backup good came...</td>\n",
              "      <td>0.542857</td>\n",
              "      <td>0.571429</td>\n",
              "    </tr>\n",
              "    <tr>\n",
              "      <th>1</th>\n",
              "      <td>soumadip mondal</td>\n",
              "      <td>nice mobil perform good camera qualiti good go...</td>\n",
              "      <td>0.640000</td>\n",
              "      <td>0.680000</td>\n",
              "    </tr>\n",
              "    <tr>\n",
              "      <th>2</th>\n",
              "      <td>kuldeep singh</td>\n",
              "      <td>good phone nice work good perform nice lookread</td>\n",
              "      <td>0.650000</td>\n",
              "      <td>0.800000</td>\n",
              "    </tr>\n",
              "    <tr>\n",
              "      <th>3</th>\n",
              "      <td>nilesh gaidhani</td>\n",
              "      <td>phone camera good use first phone buyerbatteri...</td>\n",
              "      <td>0.238413</td>\n",
              "      <td>0.502857</td>\n",
              "    </tr>\n",
              "    <tr>\n",
              "      <th>4</th>\n",
              "      <td>flipkart custom</td>\n",
              "      <td>better backup osm an camer clariti good happi ...</td>\n",
              "      <td>0.633333</td>\n",
              "      <td>0.566667</td>\n",
              "    </tr>\n",
              "  </tbody>\n",
              "</table>\n",
              "</div>\n",
              "      <button class=\"colab-df-convert\" onclick=\"convertToInteractive('df-24a5e36d-0aec-4aea-9f14-c978e2b1b516')\"\n",
              "              title=\"Convert this dataframe to an interactive table.\"\n",
              "              style=\"display:none;\">\n",
              "        \n",
              "  <svg xmlns=\"http://www.w3.org/2000/svg\" height=\"24px\"viewBox=\"0 0 24 24\"\n",
              "       width=\"24px\">\n",
              "    <path d=\"M0 0h24v24H0V0z\" fill=\"none\"/>\n",
              "    <path d=\"M18.56 5.44l.94 2.06.94-2.06 2.06-.94-2.06-.94-.94-2.06-.94 2.06-2.06.94zm-11 1L8.5 8.5l.94-2.06 2.06-.94-2.06-.94L8.5 2.5l-.94 2.06-2.06.94zm10 10l.94 2.06.94-2.06 2.06-.94-2.06-.94-.94-2.06-.94 2.06-2.06.94z\"/><path d=\"M17.41 7.96l-1.37-1.37c-.4-.4-.92-.59-1.43-.59-.52 0-1.04.2-1.43.59L10.3 9.45l-7.72 7.72c-.78.78-.78 2.05 0 2.83L4 21.41c.39.39.9.59 1.41.59.51 0 1.02-.2 1.41-.59l7.78-7.78 2.81-2.81c.8-.78.8-2.07 0-2.86zM5.41 20L4 18.59l7.72-7.72 1.47 1.35L5.41 20z\"/>\n",
              "  </svg>\n",
              "      </button>\n",
              "      \n",
              "  <style>\n",
              "    .colab-df-container {\n",
              "      display:flex;\n",
              "      flex-wrap:wrap;\n",
              "      gap: 12px;\n",
              "    }\n",
              "\n",
              "    .colab-df-convert {\n",
              "      background-color: #E8F0FE;\n",
              "      border: none;\n",
              "      border-radius: 50%;\n",
              "      cursor: pointer;\n",
              "      display: none;\n",
              "      fill: #1967D2;\n",
              "      height: 32px;\n",
              "      padding: 0 0 0 0;\n",
              "      width: 32px;\n",
              "    }\n",
              "\n",
              "    .colab-df-convert:hover {\n",
              "      background-color: #E2EBFA;\n",
              "      box-shadow: 0px 1px 2px rgba(60, 64, 67, 0.3), 0px 1px 3px 1px rgba(60, 64, 67, 0.15);\n",
              "      fill: #174EA6;\n",
              "    }\n",
              "\n",
              "    [theme=dark] .colab-df-convert {\n",
              "      background-color: #3B4455;\n",
              "      fill: #D2E3FC;\n",
              "    }\n",
              "\n",
              "    [theme=dark] .colab-df-convert:hover {\n",
              "      background-color: #434B5C;\n",
              "      box-shadow: 0px 1px 3px 1px rgba(0, 0, 0, 0.15);\n",
              "      filter: drop-shadow(0px 1px 2px rgba(0, 0, 0, 0.3));\n",
              "      fill: #FFFFFF;\n",
              "    }\n",
              "  </style>\n",
              "\n",
              "      <script>\n",
              "        const buttonEl =\n",
              "          document.querySelector('#df-24a5e36d-0aec-4aea-9f14-c978e2b1b516 button.colab-df-convert');\n",
              "        buttonEl.style.display =\n",
              "          google.colab.kernel.accessAllowed ? 'block' : 'none';\n",
              "\n",
              "        async function convertToInteractive(key) {\n",
              "          const element = document.querySelector('#df-24a5e36d-0aec-4aea-9f14-c978e2b1b516');\n",
              "          const dataTable =\n",
              "            await google.colab.kernel.invokeFunction('convertToInteractive',\n",
              "                                                     [key], {});\n",
              "          if (!dataTable) return;\n",
              "\n",
              "          const docLinkHtml = 'Like what you see? Visit the ' +\n",
              "            '<a target=\"_blank\" href=https://colab.research.google.com/notebooks/data_table.ipynb>data table notebook</a>'\n",
              "            + ' to learn more about interactive tables.';\n",
              "          element.innerHTML = '';\n",
              "          dataTable['output_type'] = 'display_data';\n",
              "          await google.colab.output.renderOutput(dataTable, element);\n",
              "          const docLink = document.createElement('div');\n",
              "          docLink.innerHTML = docLinkHtml;\n",
              "          element.appendChild(docLink);\n",
              "        }\n",
              "      </script>\n",
              "    </div>\n",
              "  </div>\n",
              "  "
            ]
          },
          "metadata": {},
          "execution_count": 17
        }
      ]
    },
    {
      "cell_type": "code",
      "source": [
        "# To convert the polarity into sentimental categories i.e. positive,negative,neutral\n",
        "for i in range(0,len(data['polarity'])):\n",
        "  if data['polarity'][i]<0:\n",
        "    data['polarity'][i]='negative'\n",
        "  elif data['polarity'][i]==0:\n",
        "    data['polarity'][i]='neutral'\n",
        "  else:\n",
        "    data['polarity'][i]='positive'"
      ],
      "metadata": {
        "id": "VFBqcnKx4lMb"
      },
      "execution_count": null,
      "outputs": []
    },
    {
      "cell_type": "code",
      "source": [
        "for i in range(0,len(data['subjectivity'])):\n",
        "  if data['subjectivity'][i]<0.5:\n",
        "    data['subjectivity'][i]='Average'\n",
        "  else:\n",
        "    data['subjectivity'][i]='good' \n",
        "    "
      ],
      "metadata": {
        "id": "oCcO_CVNJ_J7"
      },
      "execution_count": null,
      "outputs": []
    },
    {
      "cell_type": "code",
      "source": [
        "data.head()"
      ],
      "metadata": {
        "colab": {
          "base_uri": "https://localhost:8080/",
          "height": 206
        },
        "id": "JLJl53Mq_-MY",
        "outputId": "ca03381d-4978-44f5-87d0-7266b789e52c"
      },
      "execution_count": null,
      "outputs": [
        {
          "output_type": "execute_result",
          "data": {
            "text/plain": [
              "              name                                             review  \\\n",
              "0      rupam dhara  good phone price rang batteri backup good came...   \n",
              "1  soumadip mondal  nice mobil perform good camera qualiti good go...   \n",
              "2    kuldeep singh    good phone nice work good perform nice lookread   \n",
              "3  nilesh gaidhani  phone camera good use first phone buyerbatteri...   \n",
              "4  flipkart custom  better backup osm an camer clariti good happi ...   \n",
              "\n",
              "   polarity subjectivity  \n",
              "0  positive         good  \n",
              "1  positive         good  \n",
              "2  positive         good  \n",
              "3  positive         good  \n",
              "4  positive         good  "
            ],
            "text/html": [
              "\n",
              "  <div id=\"df-002a279f-4597-4f82-8e64-2b28106e34e8\">\n",
              "    <div class=\"colab-df-container\">\n",
              "      <div>\n",
              "<style scoped>\n",
              "    .dataframe tbody tr th:only-of-type {\n",
              "        vertical-align: middle;\n",
              "    }\n",
              "\n",
              "    .dataframe tbody tr th {\n",
              "        vertical-align: top;\n",
              "    }\n",
              "\n",
              "    .dataframe thead th {\n",
              "        text-align: right;\n",
              "    }\n",
              "</style>\n",
              "<table border=\"1\" class=\"dataframe\">\n",
              "  <thead>\n",
              "    <tr style=\"text-align: right;\">\n",
              "      <th></th>\n",
              "      <th>name</th>\n",
              "      <th>review</th>\n",
              "      <th>polarity</th>\n",
              "      <th>subjectivity</th>\n",
              "    </tr>\n",
              "  </thead>\n",
              "  <tbody>\n",
              "    <tr>\n",
              "      <th>0</th>\n",
              "      <td>rupam dhara</td>\n",
              "      <td>good phone price rang batteri backup good came...</td>\n",
              "      <td>positive</td>\n",
              "      <td>good</td>\n",
              "    </tr>\n",
              "    <tr>\n",
              "      <th>1</th>\n",
              "      <td>soumadip mondal</td>\n",
              "      <td>nice mobil perform good camera qualiti good go...</td>\n",
              "      <td>positive</td>\n",
              "      <td>good</td>\n",
              "    </tr>\n",
              "    <tr>\n",
              "      <th>2</th>\n",
              "      <td>kuldeep singh</td>\n",
              "      <td>good phone nice work good perform nice lookread</td>\n",
              "      <td>positive</td>\n",
              "      <td>good</td>\n",
              "    </tr>\n",
              "    <tr>\n",
              "      <th>3</th>\n",
              "      <td>nilesh gaidhani</td>\n",
              "      <td>phone camera good use first phone buyerbatteri...</td>\n",
              "      <td>positive</td>\n",
              "      <td>good</td>\n",
              "    </tr>\n",
              "    <tr>\n",
              "      <th>4</th>\n",
              "      <td>flipkart custom</td>\n",
              "      <td>better backup osm an camer clariti good happi ...</td>\n",
              "      <td>positive</td>\n",
              "      <td>good</td>\n",
              "    </tr>\n",
              "  </tbody>\n",
              "</table>\n",
              "</div>\n",
              "      <button class=\"colab-df-convert\" onclick=\"convertToInteractive('df-002a279f-4597-4f82-8e64-2b28106e34e8')\"\n",
              "              title=\"Convert this dataframe to an interactive table.\"\n",
              "              style=\"display:none;\">\n",
              "        \n",
              "  <svg xmlns=\"http://www.w3.org/2000/svg\" height=\"24px\"viewBox=\"0 0 24 24\"\n",
              "       width=\"24px\">\n",
              "    <path d=\"M0 0h24v24H0V0z\" fill=\"none\"/>\n",
              "    <path d=\"M18.56 5.44l.94 2.06.94-2.06 2.06-.94-2.06-.94-.94-2.06-.94 2.06-2.06.94zm-11 1L8.5 8.5l.94-2.06 2.06-.94-2.06-.94L8.5 2.5l-.94 2.06-2.06.94zm10 10l.94 2.06.94-2.06 2.06-.94-2.06-.94-.94-2.06-.94 2.06-2.06.94z\"/><path d=\"M17.41 7.96l-1.37-1.37c-.4-.4-.92-.59-1.43-.59-.52 0-1.04.2-1.43.59L10.3 9.45l-7.72 7.72c-.78.78-.78 2.05 0 2.83L4 21.41c.39.39.9.59 1.41.59.51 0 1.02-.2 1.41-.59l7.78-7.78 2.81-2.81c.8-.78.8-2.07 0-2.86zM5.41 20L4 18.59l7.72-7.72 1.47 1.35L5.41 20z\"/>\n",
              "  </svg>\n",
              "      </button>\n",
              "      \n",
              "  <style>\n",
              "    .colab-df-container {\n",
              "      display:flex;\n",
              "      flex-wrap:wrap;\n",
              "      gap: 12px;\n",
              "    }\n",
              "\n",
              "    .colab-df-convert {\n",
              "      background-color: #E8F0FE;\n",
              "      border: none;\n",
              "      border-radius: 50%;\n",
              "      cursor: pointer;\n",
              "      display: none;\n",
              "      fill: #1967D2;\n",
              "      height: 32px;\n",
              "      padding: 0 0 0 0;\n",
              "      width: 32px;\n",
              "    }\n",
              "\n",
              "    .colab-df-convert:hover {\n",
              "      background-color: #E2EBFA;\n",
              "      box-shadow: 0px 1px 2px rgba(60, 64, 67, 0.3), 0px 1px 3px 1px rgba(60, 64, 67, 0.15);\n",
              "      fill: #174EA6;\n",
              "    }\n",
              "\n",
              "    [theme=dark] .colab-df-convert {\n",
              "      background-color: #3B4455;\n",
              "      fill: #D2E3FC;\n",
              "    }\n",
              "\n",
              "    [theme=dark] .colab-df-convert:hover {\n",
              "      background-color: #434B5C;\n",
              "      box-shadow: 0px 1px 3px 1px rgba(0, 0, 0, 0.15);\n",
              "      filter: drop-shadow(0px 1px 2px rgba(0, 0, 0, 0.3));\n",
              "      fill: #FFFFFF;\n",
              "    }\n",
              "  </style>\n",
              "\n",
              "      <script>\n",
              "        const buttonEl =\n",
              "          document.querySelector('#df-002a279f-4597-4f82-8e64-2b28106e34e8 button.colab-df-convert');\n",
              "        buttonEl.style.display =\n",
              "          google.colab.kernel.accessAllowed ? 'block' : 'none';\n",
              "\n",
              "        async function convertToInteractive(key) {\n",
              "          const element = document.querySelector('#df-002a279f-4597-4f82-8e64-2b28106e34e8');\n",
              "          const dataTable =\n",
              "            await google.colab.kernel.invokeFunction('convertToInteractive',\n",
              "                                                     [key], {});\n",
              "          if (!dataTable) return;\n",
              "\n",
              "          const docLinkHtml = 'Like what you see? Visit the ' +\n",
              "            '<a target=\"_blank\" href=https://colab.research.google.com/notebooks/data_table.ipynb>data table notebook</a>'\n",
              "            + ' to learn more about interactive tables.';\n",
              "          element.innerHTML = '';\n",
              "          dataTable['output_type'] = 'display_data';\n",
              "          await google.colab.output.renderOutput(dataTable, element);\n",
              "          const docLink = document.createElement('div');\n",
              "          docLink.innerHTML = docLinkHtml;\n",
              "          element.appendChild(docLink);\n",
              "        }\n",
              "      </script>\n",
              "    </div>\n",
              "  </div>\n",
              "  "
            ]
          },
          "metadata": {},
          "execution_count": 20
        }
      ]
    },
    {
      "cell_type": "code",
      "source": [
        "data.shape"
      ],
      "metadata": {
        "colab": {
          "base_uri": "https://localhost:8080/"
        },
        "id": "Kg8Ez_bJLdOy",
        "outputId": "259a3fde-ae0c-4dae-c705-4948d86ed40f"
      },
      "execution_count": null,
      "outputs": [
        {
          "output_type": "execute_result",
          "data": {
            "text/plain": [
              "(140, 4)"
            ]
          },
          "metadata": {},
          "execution_count": 21
        }
      ]
    },
    {
      "cell_type": "code",
      "source": [
        "data.tail()"
      ],
      "metadata": {
        "colab": {
          "base_uri": "https://localhost:8080/",
          "height": 206
        },
        "id": "MpWt1Yd7EbdZ",
        "outputId": "762c3a94-0322-4d08-88e9-55ed7f4b45fa"
      },
      "execution_count": null,
      "outputs": [
        {
          "output_type": "execute_result",
          "data": {
            "text/plain": [
              "                          name  \\\n",
              "135          purnima sadhukhan   \n",
              "136               maheshbabu p   \n",
              "137  prakash gongadashettimath   \n",
              "138               md zaid khan   \n",
              "139         debasish choudhuri   \n",
              "\n",
              "                                                review  polarity subjectivity  \n",
              "135  faulti touch pad problem start product return ...   neutral      Average  \n",
              "136                                 mobil get heatread   neutral      Average  \n",
              "137  met minimum expect front camera worst ever use...  negative      Average  \n",
              "138  great budget phon buy dual app featur great bu...  positive         good  \n",
              "139                                           goodread   neutral      Average  "
            ],
            "text/html": [
              "\n",
              "  <div id=\"df-90ed5cb5-f61a-4473-8659-a3b22f761272\">\n",
              "    <div class=\"colab-df-container\">\n",
              "      <div>\n",
              "<style scoped>\n",
              "    .dataframe tbody tr th:only-of-type {\n",
              "        vertical-align: middle;\n",
              "    }\n",
              "\n",
              "    .dataframe tbody tr th {\n",
              "        vertical-align: top;\n",
              "    }\n",
              "\n",
              "    .dataframe thead th {\n",
              "        text-align: right;\n",
              "    }\n",
              "</style>\n",
              "<table border=\"1\" class=\"dataframe\">\n",
              "  <thead>\n",
              "    <tr style=\"text-align: right;\">\n",
              "      <th></th>\n",
              "      <th>name</th>\n",
              "      <th>review</th>\n",
              "      <th>polarity</th>\n",
              "      <th>subjectivity</th>\n",
              "    </tr>\n",
              "  </thead>\n",
              "  <tbody>\n",
              "    <tr>\n",
              "      <th>135</th>\n",
              "      <td>purnima sadhukhan</td>\n",
              "      <td>faulti touch pad problem start product return ...</td>\n",
              "      <td>neutral</td>\n",
              "      <td>Average</td>\n",
              "    </tr>\n",
              "    <tr>\n",
              "      <th>136</th>\n",
              "      <td>maheshbabu p</td>\n",
              "      <td>mobil get heatread</td>\n",
              "      <td>neutral</td>\n",
              "      <td>Average</td>\n",
              "    </tr>\n",
              "    <tr>\n",
              "      <th>137</th>\n",
              "      <td>prakash gongadashettimath</td>\n",
              "      <td>met minimum expect front camera worst ever use...</td>\n",
              "      <td>negative</td>\n",
              "      <td>Average</td>\n",
              "    </tr>\n",
              "    <tr>\n",
              "      <th>138</th>\n",
              "      <td>md zaid khan</td>\n",
              "      <td>great budget phon buy dual app featur great bu...</td>\n",
              "      <td>positive</td>\n",
              "      <td>good</td>\n",
              "    </tr>\n",
              "    <tr>\n",
              "      <th>139</th>\n",
              "      <td>debasish choudhuri</td>\n",
              "      <td>goodread</td>\n",
              "      <td>neutral</td>\n",
              "      <td>Average</td>\n",
              "    </tr>\n",
              "  </tbody>\n",
              "</table>\n",
              "</div>\n",
              "      <button class=\"colab-df-convert\" onclick=\"convertToInteractive('df-90ed5cb5-f61a-4473-8659-a3b22f761272')\"\n",
              "              title=\"Convert this dataframe to an interactive table.\"\n",
              "              style=\"display:none;\">\n",
              "        \n",
              "  <svg xmlns=\"http://www.w3.org/2000/svg\" height=\"24px\"viewBox=\"0 0 24 24\"\n",
              "       width=\"24px\">\n",
              "    <path d=\"M0 0h24v24H0V0z\" fill=\"none\"/>\n",
              "    <path d=\"M18.56 5.44l.94 2.06.94-2.06 2.06-.94-2.06-.94-.94-2.06-.94 2.06-2.06.94zm-11 1L8.5 8.5l.94-2.06 2.06-.94-2.06-.94L8.5 2.5l-.94 2.06-2.06.94zm10 10l.94 2.06.94-2.06 2.06-.94-2.06-.94-.94-2.06-.94 2.06-2.06.94z\"/><path d=\"M17.41 7.96l-1.37-1.37c-.4-.4-.92-.59-1.43-.59-.52 0-1.04.2-1.43.59L10.3 9.45l-7.72 7.72c-.78.78-.78 2.05 0 2.83L4 21.41c.39.39.9.59 1.41.59.51 0 1.02-.2 1.41-.59l7.78-7.78 2.81-2.81c.8-.78.8-2.07 0-2.86zM5.41 20L4 18.59l7.72-7.72 1.47 1.35L5.41 20z\"/>\n",
              "  </svg>\n",
              "      </button>\n",
              "      \n",
              "  <style>\n",
              "    .colab-df-container {\n",
              "      display:flex;\n",
              "      flex-wrap:wrap;\n",
              "      gap: 12px;\n",
              "    }\n",
              "\n",
              "    .colab-df-convert {\n",
              "      background-color: #E8F0FE;\n",
              "      border: none;\n",
              "      border-radius: 50%;\n",
              "      cursor: pointer;\n",
              "      display: none;\n",
              "      fill: #1967D2;\n",
              "      height: 32px;\n",
              "      padding: 0 0 0 0;\n",
              "      width: 32px;\n",
              "    }\n",
              "\n",
              "    .colab-df-convert:hover {\n",
              "      background-color: #E2EBFA;\n",
              "      box-shadow: 0px 1px 2px rgba(60, 64, 67, 0.3), 0px 1px 3px 1px rgba(60, 64, 67, 0.15);\n",
              "      fill: #174EA6;\n",
              "    }\n",
              "\n",
              "    [theme=dark] .colab-df-convert {\n",
              "      background-color: #3B4455;\n",
              "      fill: #D2E3FC;\n",
              "    }\n",
              "\n",
              "    [theme=dark] .colab-df-convert:hover {\n",
              "      background-color: #434B5C;\n",
              "      box-shadow: 0px 1px 3px 1px rgba(0, 0, 0, 0.15);\n",
              "      filter: drop-shadow(0px 1px 2px rgba(0, 0, 0, 0.3));\n",
              "      fill: #FFFFFF;\n",
              "    }\n",
              "  </style>\n",
              "\n",
              "      <script>\n",
              "        const buttonEl =\n",
              "          document.querySelector('#df-90ed5cb5-f61a-4473-8659-a3b22f761272 button.colab-df-convert');\n",
              "        buttonEl.style.display =\n",
              "          google.colab.kernel.accessAllowed ? 'block' : 'none';\n",
              "\n",
              "        async function convertToInteractive(key) {\n",
              "          const element = document.querySelector('#df-90ed5cb5-f61a-4473-8659-a3b22f761272');\n",
              "          const dataTable =\n",
              "            await google.colab.kernel.invokeFunction('convertToInteractive',\n",
              "                                                     [key], {});\n",
              "          if (!dataTable) return;\n",
              "\n",
              "          const docLinkHtml = 'Like what you see? Visit the ' +\n",
              "            '<a target=\"_blank\" href=https://colab.research.google.com/notebooks/data_table.ipynb>data table notebook</a>'\n",
              "            + ' to learn more about interactive tables.';\n",
              "          element.innerHTML = '';\n",
              "          dataTable['output_type'] = 'display_data';\n",
              "          await google.colab.output.renderOutput(dataTable, element);\n",
              "          const docLink = document.createElement('div');\n",
              "          docLink.innerHTML = docLinkHtml;\n",
              "          element.appendChild(docLink);\n",
              "        }\n",
              "      </script>\n",
              "    </div>\n",
              "  </div>\n",
              "  "
            ]
          },
          "metadata": {},
          "execution_count": 22
        }
      ]
    },
    {
      "cell_type": "markdown",
      "source": [
        "# Model Building  and prediction"
      ],
      "metadata": {
        "id": "cjO7GXgHNtYG"
      }
    },
    {
      "cell_type": "code",
      "source": [
        "# Making X and y for machine learning\n",
        "X=data['review']\n",
        "y=data['polarity']"
      ],
      "metadata": {
        "id": "RDG8jRB2Ecoy"
      },
      "execution_count": null,
      "outputs": []
    },
    {
      "cell_type": "code",
      "source": [
        "# Converting the y column into numerical one\n",
        "from sklearn.preprocessing import LabelEncoder\n",
        "le = LabelEncoder()\n",
        "y=le.fit_transform(y)"
      ],
      "metadata": {
        "id": "yXKCjwE_GdM2"
      },
      "execution_count": null,
      "outputs": []
    },
    {
      "cell_type": "code",
      "source": [
        "y"
      ],
      "metadata": {
        "colab": {
          "base_uri": "https://localhost:8080/"
        },
        "id": "6xphE7jIG1DA",
        "outputId": "3ce05b08-12bd-4be0-9113-a7520d6eb824"
      },
      "execution_count": null,
      "outputs": [
        {
          "output_type": "execute_result",
          "data": {
            "text/plain": [
              "array([2, 2, 2, 2, 2, 2, 2, 2, 2, 2, 2, 2, 2, 2, 2, 2, 2, 2, 2, 2, 2, 2,\n",
              "       2, 2, 2, 2, 2, 2, 2, 2, 2, 2, 0, 2, 2, 2, 2, 2, 1, 2, 1, 2, 2, 2,\n",
              "       2, 2, 2, 2, 2, 1, 2, 0, 2, 2, 1, 1, 2, 2, 2, 2, 1, 2, 1, 2, 2, 2,\n",
              "       2, 1, 0, 2, 1, 2, 2, 0, 2, 1, 1, 1, 2, 1, 0, 1, 1, 1, 1, 2, 0, 0,\n",
              "       2, 2, 2, 2, 0, 2, 1, 2, 2, 1, 2, 2, 1, 2, 2, 2, 1, 2, 2, 2, 0, 0,\n",
              "       2, 1, 0, 2, 2, 2, 2, 1, 2, 1, 1, 2, 1, 2, 2, 2, 2, 1, 1, 1, 2, 2,\n",
              "       2, 2, 2, 1, 1, 0, 2, 1])"
            ]
          },
          "metadata": {},
          "execution_count": 25
        }
      ]
    },
    {
      "cell_type": "code",
      "source": [
        "# Converting the review into numerical vector to go for model building\n",
        "from sklearn.feature_extraction.text import TfidfVectorizer\n",
        "tfidf=TfidfVectorizer(max_features=1000)\n",
        "X=tfidf.fit_transform(X).toarray()"
      ],
      "metadata": {
        "id": "pgVYc6sPE6n0"
      },
      "execution_count": null,
      "outputs": []
    },
    {
      "cell_type": "code",
      "source": [
        "X.shape"
      ],
      "metadata": {
        "colab": {
          "base_uri": "https://localhost:8080/"
        },
        "id": "76VYz80EF_Fd",
        "outputId": "b3d260b2-4fa4-4ea5-af42-29efb4e557f3"
      },
      "execution_count": null,
      "outputs": [
        {
          "output_type": "execute_result",
          "data": {
            "text/plain": [
              "(140, 524)"
            ]
          },
          "metadata": {},
          "execution_count": 27
        }
      ]
    },
    {
      "cell_type": "code",
      "source": [
        "# Importing the train_test_split\n",
        "from sklearn.model_selection import train_test_split\n",
        "X_train,X_test,y_train,y_test=train_test_split(X,y,test_size=.25,random_state=0)"
      ],
      "metadata": {
        "id": "zIrjWHN0Hz9q"
      },
      "execution_count": null,
      "outputs": []
    },
    {
      "cell_type": "code",
      "source": [
        "# Importing the machine learning model\n",
        "from sklearn.ensemble import RandomForestClassifier\n",
        "model=RandomForestClassifier()\n",
        "model=model.fit(X_train,y_train)\n",
        "clf=model.predict(X_test)"
      ],
      "metadata": {
        "id": "OtSz2EL7F_w1"
      },
      "execution_count": null,
      "outputs": []
    },
    {
      "cell_type": "code",
      "source": [
        "# Importing the Accuracy Score\n",
        "from sklearn.metrics import confusion_matrix,classification_report\n",
        "print(confusion_matrix(clf,y_test))\n",
        "print(classification_report(clf,y_test))"
      ],
      "metadata": {
        "colab": {
          "base_uri": "https://localhost:8080/"
        },
        "id": "VdFm0OwEIQyN",
        "outputId": "7ba01770-5b49-4a55-b313-729fc3cf6efd"
      },
      "execution_count": null,
      "outputs": [
        {
          "output_type": "stream",
          "name": "stdout",
          "text": [
            "[[ 0  0  0]\n",
            " [ 3  5  2]\n",
            " [ 1  0 24]]\n",
            "              precision    recall  f1-score   support\n",
            "\n",
            "           0       0.00      0.00      0.00         0\n",
            "           1       1.00      0.50      0.67        10\n",
            "           2       0.92      0.96      0.94        25\n",
            "\n",
            "    accuracy                           0.83        35\n",
            "   macro avg       0.64      0.49      0.54        35\n",
            "weighted avg       0.95      0.83      0.86        35\n",
            "\n"
          ]
        }
      ]
    },
    {
      "cell_type": "markdown",
      "source": [
        "# Visualization"
      ],
      "metadata": {
        "id": "IPdlFCE_Ocym"
      }
    },
    {
      "cell_type": "code",
      "source": [
        "# Importing the Graph as No. of different sentiments as per the polarity for this particular phone\n",
        "data['polarity'].value_counts().plot(kind='bar')"
      ],
      "metadata": {
        "colab": {
          "base_uri": "https://localhost:8080/",
          "height": 318
        },
        "id": "FLqYuIBjJZoG",
        "outputId": "4f024461-1b2e-4c65-8bb1-2af6d876b855"
      },
      "execution_count": null,
      "outputs": [
        {
          "output_type": "execute_result",
          "data": {
            "text/plain": [
              "<matplotlib.axes._subplots.AxesSubplot at 0x7f12d2937310>"
            ]
          },
          "metadata": {},
          "execution_count": 31
        },
        {
          "output_type": "display_data",
          "data": {
            "text/plain": [
              "<Figure size 432x288 with 1 Axes>"
            ],
            "image/png": "[encoded data removed]"
          },
          "metadata": {
            "needs_background": "light"
          }
        }
      ]
    },
    {
      "cell_type": "code",
      "source": [
        "# Importing the Graph as No. of different sentiments as per the subjectivity parametre for this particular phone\n",
        "data['subjectivity'].value_counts().plot(kind='bar')"
      ],
      "metadata": {
        "colab": {
          "base_uri": "https://localhost:8080/",
          "height": 315
        },
        "id": "g7kggcyMKwc4",
        "outputId": "e71f40cb-7d49-4767-b98e-9c4f3e01bfc8"
      },
      "execution_count": null,
      "outputs": [
        {
          "output_type": "execute_result",
          "data": {
            "text/plain": [
              "<matplotlib.axes._subplots.AxesSubplot at 0x7f12d28cdfa0>"
            ]
          },
          "metadata": {},
          "execution_count": 32
        },
        {
          "output_type": "display_data",
          "data": {
            "text/plain": [
              "<Figure size 432x288 with 1 Axes>"
            ],
            "image/png": "[encoded data removed]"
          },
          "metadata": {
            "needs_background": "light"
          }
        }
      ]
    },
    {
      "cell_type": "markdown",
      "source": [
        "# Going for Deployment"
      ],
      "metadata": {
        "id": "J6pjBsdyMd-z"
      }
    },
    {
      "cell_type": "code",
      "source": [
        "import pickle"
      ],
      "metadata": {
        "id": "BdWQvZvwMaTi"
      },
      "execution_count": null,
      "outputs": []
    },
    {
      "cell_type": "code",
      "source": [
        "pickle.dump(clf,open('sentiment.sav','wb'))"
      ],
      "metadata": {
        "id": "rwKiW2LAMN7a"
      },
      "execution_count": null,
      "outputs": []
    }
  ]
}